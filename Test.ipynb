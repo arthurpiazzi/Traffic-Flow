{
 "cells": [
  {
   "cell_type": "code",
   "execution_count": 10,
   "metadata": {
    "collapsed": false
   },
   "outputs": [
    {
     "data": {
      "text/plain": [
       "(2391575, 3)"
      ]
     },
     "execution_count": 10,
     "metadata": {},
     "output_type": "execute_result"
    }
   ],
   "source": [
    "import pandas as pd\n",
    "\n",
    "df = pd.read_csv('csv/traffic/contracted-Caltrans_text_gn_link_5min_2018_02_20.csv', dtype={'source_id':'category'})\n",
    "\n",
    "df.shape\n"
   ]
  },
  {
   "cell_type": "code",
   "execution_count": 36,
   "metadata": {
    "collapsed": false
   },
   "outputs": [],
   "source": [
    "unique = df.source_id.value_counts().unique()\n",
    "res = []\n",
    "for u in unique:\n",
    "    res.append((u, (df.source_id.value_counts() == u).sum()))\n",
    "    \n",
    "\n",
    "    "
   ]
  },
  {
   "cell_type": "code",
   "execution_count": 44,
   "metadata": {
    "collapsed": false
   },
   "outputs": [
    {
     "data": {
      "text/plain": [
       "[(288, 5604),\n",
       " (255, 1),\n",
       " (156, 27),\n",
       " (155, 3),\n",
       " (149, 19),\n",
       " (148, 26),\n",
       " (132, 13),\n",
       " (129, 21),\n",
       " (128, 18),\n",
       " (124, 11),\n",
       " (117, 12),\n",
       " (116, 29),\n",
       " (114, 12),\n",
       " (113, 14),\n",
       " (110, 22),\n",
       " (109, 17),\n",
       " (107, 12),\n",
       " (106, 71),\n",
       " (105, 37),\n",
       " (102, 15),\n",
       " (100, 30),\n",
       " (99, 18),\n",
       " (98, 44),\n",
       " (97, 17),\n",
       " (96, 149),\n",
       " (95, 49),\n",
       " (94, 23),\n",
       " (93, 5),\n",
       " (92, 33),\n",
       " (90, 84),\n",
       " (89, 25),\n",
       " (88, 37),\n",
       " (87, 9),\n",
       " (86, 104),\n",
       " (85, 48),\n",
       " (84, 45),\n",
       " (83, 18),\n",
       " (82, 68),\n",
       " (81, 183),\n",
       " (80, 5),\n",
       " (79, 72),\n",
       " (78, 35),\n",
       " (77, 65),\n",
       " (76, 54),\n",
       " (75, 102),\n",
       " (74, 42),\n",
       " (73, 39),\n",
       " (72, 47),\n",
       " (71, 10),\n",
       " (70, 88),\n",
       " (69, 69),\n",
       " (68, 84),\n",
       " (67, 126),\n",
       " (66, 82),\n",
       " (65, 160),\n",
       " (64, 168),\n",
       " (63, 69),\n",
       " (62, 101),\n",
       " (61, 122),\n",
       " (60, 122),\n",
       " (59, 63),\n",
       " (58, 175),\n",
       " (57, 218),\n",
       " (56, 67),\n",
       " (55, 193),\n",
       " (54, 157),\n",
       " (53, 186),\n",
       " (52, 177),\n",
       " (51, 197),\n",
       " (50, 170),\n",
       " (49, 139),\n",
       " (48, 147),\n",
       " (47, 200),\n",
       " (46, 229),\n",
       " (45, 125),\n",
       " (44, 309),\n",
       " (43, 106),\n",
       " (42, 320),\n",
       " (41, 238),\n",
       " (40, 265),\n",
       " (39, 158),\n",
       " (38, 227),\n",
       " (37, 341),\n",
       " (36, 221),\n",
       " (35, 205),\n",
       " (34, 351),\n",
       " (33, 284),\n",
       " (32, 319),\n",
       " (31, 391),\n",
       " (30, 269),\n",
       " (29, 313),\n",
       " (28, 379),\n",
       " (27, 429),\n",
       " (26, 308),\n",
       " (25, 394),\n",
       " (24, 494),\n",
       " (23, 544),\n",
       " (22, 325),\n",
       " (21, 506),\n",
       " (20, 485),\n",
       " (19, 518),\n",
       " (18, 490),\n",
       " (17, 684),\n",
       " (16, 692),\n",
       " (15, 684),\n",
       " (14, 728),\n",
       " (13, 838),\n",
       " (12, 902),\n",
       " (11, 573),\n",
       " (10, 748),\n",
       " (9, 890),\n",
       " (8, 1087),\n",
       " (7, 1245),\n",
       " (6, 1284),\n",
       " (5, 1466),\n",
       " (4, 1780),\n",
       " (3, 1916),\n",
       " (2, 2396),\n",
       " (1, 2411)]"
      ]
     },
     "execution_count": 44,
     "metadata": {},
     "output_type": "execute_result"
    }
   ],
   "source": [
    "import matplotlib.pyplot as plt \n",
    "\n",
    "%matplotlib inline\n",
    "\n",
    "res"
   ]
  },
  {
   "cell_type": "code",
   "execution_count": null,
   "metadata": {
    "collapsed": false
   },
   "outputs": [
    {
     "name": "stderr",
     "output_type": "stream",
     "text": [
      " 23%|████████▋                            | 9492/40591 [09:41<31:46, 16.31it/s]"
     ]
    }
   ],
   "source": [
    "g = df.groupby('source_id')\n",
    "col = []\n",
    "try:\n",
    "    del(df_res)\n",
    "except:\n",
    "    pass\n",
    "    \n",
    "for name, group in tqdm(g):\n",
    "    col.append(col)\n",
    "    try:      \n",
    "        df_res = pd.concat([df_res, group['avg_speed']], axis=1)\n",
    "    except NameError:\n",
    "        df_res = group['avg_speed']\n",
    "    \n",
    "df_res.columns = col\n",
    "df.head()"
   ]
  },
  {
   "cell_type": "code",
   "execution_count": 90,
   "metadata": {
    "collapsed": false
   },
   "outputs": [],
   "source": [
    "del(df_res)\n"
   ]
  },
  {
   "cell_type": "code",
   "execution_count": null,
   "metadata": {
    "collapsed": true
   },
   "outputs": [],
   "source": []
  }
 ],
 "metadata": {
  "kernelspec": {
   "display_name": "Python 3",
   "language": "python",
   "name": "python3"
  },
  "language_info": {
   "codemirror_mode": {
    "name": "ipython",
    "version": 3
   },
   "file_extension": ".py",
   "mimetype": "text/x-python",
   "name": "python",
   "nbconvert_exporter": "python",
   "pygments_lexer": "ipython3",
   "version": "3.6.0"
  }
 },
 "nbformat": 4,
 "nbformat_minor": 2
}
